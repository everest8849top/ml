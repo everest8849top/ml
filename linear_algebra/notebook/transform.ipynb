{
 "cells": [
  {
   "cell_type": "markdown",
   "metadata": {},
   "source": [
    "# Basis Vectors Transformation\n",
    "In this example, we show how to perform transformation on basis vectors. We will show that when we change the basis vectors, the coordinates of points change as well.\n",
    "\n",
    "\n",
    "Let us start with the canonical/standard basis vectors:\n",
    "\n",
    "\\begin{equation*}\n",
    "B = \n",
    "\\begin{pmatrix}\n",
    "\\begin{bmatrix}\n",
    "1\\\\\n",
    "0\\\\\n",
    "\\end{bmatrix},\n",
    "\\begin{bmatrix}\n",
    "0\\\\\n",
    "1\\\\\n",
    "\\end{bmatrix}\n",
    "\\end{pmatrix}\n",
    "\\end{equation*}\n",
    "\n",
    "and generate grid of points from $y=-2$ to $y=1$ and from $x=-2$ to $x=1$ with respect to the canonical basis vectors."
   ]
  },
  {
   "cell_type": "code",
   "execution_count": 200,
   "metadata": {},
   "outputs": [],
   "source": [
    "import numpy as np\n",
    "import matplotlib.pyplot as plt"
   ]
  },
  {
   "cell_type": "code",
   "execution_count": 201,
   "metadata": {},
   "outputs": [],
   "source": [
    "x = np.arange(-2, 2, 1)\n",
    "y = np.arange(-2, 2, 1)\n",
    "xx, yy = np.meshgrid(x, y, sparse=False)\n",
    "xx = np.reshape(xx,(-1,1))\n",
    "yy = np.reshape(yy,(-1,1))"
   ]
  },
  {
   "cell_type": "code",
   "execution_count": 202,
   "metadata": {},
   "outputs": [
    {
     "name": "stdout",
     "output_type": "stream",
     "text": [
      "(16, 1) (16, 1)\n"
     ]
    }
   ],
   "source": [
    "a = np.array(list(zip(xx,yy)))\n",
    "x = a[:,0]\n",
    "y = a[:,1]\n",
    "print(x.shape, y.shape)"
   ]
  },
  {
   "cell_type": "code",
   "execution_count": 203,
   "metadata": {},
   "outputs": [
    {
     "data": {
      "text/plain": [
       "(16, 1)"
      ]
     },
     "execution_count": 203,
     "metadata": {},
     "output_type": "execute_result"
    }
   ],
   "source": [
    "index = np.reshape(np.array([i for i in range(a.shape[0])]), (-1,1))\n",
    "index.shape"
   ]
  },
  {
   "cell_type": "code",
   "execution_count": 275,
   "metadata": {},
   "outputs": [
    {
     "data": {
      "image/png": "[encoded data removed]",
      "text/plain": [
       "<Figure size 432x288 with 1 Axes>"
      ]
     },
     "metadata": {
      "needs_background": "light"
     },
     "output_type": "display_data"
    }
   ],
   "source": [
    "plt.scatter(x, y, c=index, cmap='viridis')\n",
    "plt.savefig(\"canonical.png\")\n",
    "plt.show()"
   ]
  },
  {
   "cell_type": "markdown",
   "metadata": {},
   "source": [
    "## Rotate Transform\n",
    "Let us rotate the basis vectors by $45^{\\circ}$ or $\\frac{\\pi}{4}$ counter clockwise:\n",
    "\n",
    "\\begin{equation*}\n",
    "T = \n",
    "\\begin{bmatrix}\n",
    "\\cos\\frac{\\pi}{4} & -\\sin\\frac{\\pi}{4} \\\\\n",
    "\\sin\\frac{\\pi}{4} & \\cos\\frac{\\pi}{4}\\\\\n",
    "\\end{bmatrix}\n",
    "\\end{equation*}"
   ]
  },
  {
   "cell_type": "code",
   "execution_count": 231,
   "metadata": {},
   "outputs": [],
   "source": [
    "import math\n",
    "T = np.array([[math.cos(math.pi/4), -math.sin(math.pi/4)],[math.sin(math.pi/4), math.cos(math.pi/4)]])"
   ]
  },
  {
   "cell_type": "code",
   "execution_count": 232,
   "metadata": {},
   "outputs": [
    {
     "name": "stdout",
     "output_type": "stream",
     "text": [
      "[[ 0.70710678 -0.70710678]\n",
      " [ 0.70710678  0.70710678]]\n"
     ]
    }
   ],
   "source": [
    "print(T)"
   ]
  },
  {
   "cell_type": "code",
   "execution_count": 233,
   "metadata": {},
   "outputs": [
    {
     "data": {
      "text/plain": [
       "(2, 2)"
      ]
     },
     "execution_count": 233,
     "metadata": {},
     "output_type": "execute_result"
    }
   ],
   "source": [
    "T.shape"
   ]
  },
  {
   "cell_type": "code",
   "execution_count": 234,
   "metadata": {},
   "outputs": [],
   "source": [
    "a = np.reshape(a, (16,2))\n",
    "b = T.dot(a.T)\n",
    "b = b.T"
   ]
  },
  {
   "cell_type": "markdown",
   "metadata": {},
   "source": [
    "The last point in the canonical basis vectors has coordinates:"
   ]
  },
  {
   "cell_type": "code",
   "execution_count": 235,
   "metadata": {},
   "outputs": [
    {
     "data": {
      "text/plain": [
       "array([1, 1])"
      ]
     },
     "execution_count": 235,
     "metadata": {},
     "output_type": "execute_result"
    }
   ],
   "source": [
    "a.T[:,-1]"
   ]
  },
  {
   "cell_type": "markdown",
   "metadata": {},
   "source": [
    "This is transformed to $\\begin{bmatrix}0.0 \\\\ 1.4\\end{bmatrix}$:"
   ]
  },
  {
   "cell_type": "code",
   "execution_count": 236,
   "metadata": {},
   "outputs": [
    {
     "data": {
      "text/plain": [
       "array([1.11022302e-16, 1.41421356e+00])"
      ]
     },
     "execution_count": 236,
     "metadata": {},
     "output_type": "execute_result"
    }
   ],
   "source": [
    "b[-1]"
   ]
  },
  {
   "cell_type": "code",
   "execution_count": 276,
   "metadata": {},
   "outputs": [
    {
     "data": {
      "image/png": "[encoded data removed]",
      "text/plain": [
       "<Figure size 432x288 with 1 Axes>"
      ]
     },
     "metadata": {
      "needs_background": "light"
     },
     "output_type": "display_data"
    }
   ],
   "source": [
    "x = b[:,0]\n",
    "y = b[:,1]\n",
    "x = np.reshape(x, (-1,1))\n",
    "y = np.reshape(y, (-1,1))\n",
    "plt.scatter(x, y, c=index, cmap='viridis')\n",
    "plt.savefig(\"rotation.png\")\n",
    "plt.show()"
   ]
  },
  {
   "cell_type": "markdown",
   "metadata": {},
   "source": [
    "We can see from the plot that the points are correspondingly rotated. For example, in the canonical basis vectors, the *yellow* point:\n",
    "\n",
    "\\begin{equation*}\n",
    "\\mathbf{p} = \n",
    "\\begin{bmatrix}\n",
    "1 \\\\\n",
    "1\n",
    "\\end{bmatrix}\n",
    "\\end{equation*}\n",
    "\n",
    "has a new set of coordinates:\n",
    "\n",
    "\\begin{equation*}\n",
    "\\mathbf{p} = \n",
    "\\begin{bmatrix}\n",
    "0.0 \\\\\n",
    "1.4\n",
    "\\end{bmatrix}\n",
    "\\end{equation*}"
   ]
  },
  {
   "cell_type": "markdown",
   "metadata": {},
   "source": [
    "## Similarity Transform\n",
    "\n",
    "Let us apply similarity transform of the form:\n",
    "\n",
    "\\begin{equation*}\n",
    "T = \n",
    "\\begin{bmatrix}\n",
    "\\lambda\\cos\\theta & -\\lambda\\sin\\theta \\\\\n",
    "\\lambda\\sin\\theta & \\lambda\\cos\\theta\\\\\n",
    "\\end{bmatrix}\n",
    "\\end{equation*}\n",
    "\n",
    "Where $0<\\lambda<1.0$ and $0<\\theta<\\pi$: "
   ]
  },
  {
   "cell_type": "code",
   "execution_count": 279,
   "metadata": {},
   "outputs": [
    {
     "name": "stdout",
     "output_type": "stream",
     "text": [
      "theta: 1.4791866506123954\n",
      "lambda: 0.7205500888191847\n"
     ]
    }
   ],
   "source": [
    "lamb = np.random.rand(1)[0]\n",
    "theta = math.pi*np.random.rand(1)[0]\n",
    "T = lamb*np.array([[math.cos(theta), -math.sin(theta)],[math.sin(theta), math.cos(theta)]])\n",
    "print(\"theta:\", theta)\n",
    "print(\"lambda:\", lamb)"
   ]
  },
  {
   "cell_type": "code",
   "execution_count": 280,
   "metadata": {},
   "outputs": [
    {
     "name": "stdout",
     "output_type": "stream",
     "text": [
      "[[ 1.30322317 -1.56689145]\n",
      " [ 1.36914024 -0.8493628 ]\n",
      " [ 1.43505731 -0.13183414]\n",
      " [ 1.50097438  0.58569451]\n",
      " [ 0.58569451 -1.50097438]\n",
      " [ 0.65161158 -0.78344573]\n",
      " [ 0.71752865 -0.06591707]\n",
      " [ 0.78344573  0.65161158]\n",
      " [-0.13183414 -1.43505731]\n",
      " [-0.06591707 -0.71752865]\n",
      " [ 0.          0.        ]\n",
      " [ 0.06591707  0.71752865]\n",
      " [-0.8493628  -1.36914024]\n",
      " [-0.78344573 -0.65161158]\n",
      " [-0.71752865  0.06591707]\n",
      " [-0.65161158  0.78344573]]\n"
     ]
    }
   ],
   "source": [
    "a = np.reshape(a, (16,2))\n",
    "c = T.dot(a.T)\n",
    "c = c.T\n",
    "print(c)"
   ]
  },
  {
   "cell_type": "code",
   "execution_count": 281,
   "metadata": {},
   "outputs": [
    {
     "data": {
      "image/png": "[encoded data removed]",
      "text/plain": [
       "<Figure size 432x288 with 1 Axes>"
      ]
     },
     "metadata": {
      "needs_background": "light"
     },
     "output_type": "display_data"
    }
   ],
   "source": [
    "x = c[:,0]\n",
    "y = c[:,1]\n",
    "x = np.reshape(x, (-1,1))\n",
    "y = np.reshape(y, (-1,1))\n",
    "plt.scatter(x, y, c=index, cmap='viridis')\n",
    "plt.savefig(\"similarity.png\")\n",
    "plt.show()"
   ]
  },
  {
   "cell_type": "markdown",
   "metadata": {},
   "source": [
    "## Affine Transform\n",
    "Let us apply similarity transform of the form:\n",
    "\n",
    "\\begin{equation*}\n",
    "T = \n",
    "\\begin{bmatrix}\n",
    "\\lambda_{11} & \\lambda_{12} \\\\\n",
    "\\lambda_{21} & \\lambda_{22}\\\\\n",
    "\\end{bmatrix}\n",
    "\\end{equation*}\n",
    "\n",
    "Where $0<\\lambda<1.0$."
   ]
  },
  {
   "cell_type": "code",
   "execution_count": 284,
   "metadata": {},
   "outputs": [],
   "source": [
    "T = np.random.rand(2,2)\n",
    "a = np.reshape(a, (16,2))\n",
    "d = T.dot(a.T)\n",
    "d = d.T"
   ]
  },
  {
   "cell_type": "code",
   "execution_count": 285,
   "metadata": {},
   "outputs": [
    {
     "data": {
      "image/png": "[encoded data removed]",
      "text/plain": [
       "<Figure size 432x288 with 1 Axes>"
      ]
     },
     "metadata": {
      "needs_background": "light"
     },
     "output_type": "display_data"
    }
   ],
   "source": [
    "x = d[:,0]\n",
    "y = d[:,1]\n",
    "x = np.reshape(x, (-1,1))\n",
    "y = np.reshape(y, (-1,1))\n",
    "plt.scatter(x, y, c=index, cmap='viridis')\n",
    "plt.savefig(\"affine.png\")\n",
    "plt.show()"
   ]
  },
  {
   "cell_type": "code",
   "execution_count": null,
   "metadata": {},
   "outputs": [],
   "source": []
  }
 ],
 "metadata": {
  "kernelspec": {
   "display_name": "Python 3",
   "language": "python",
   "name": "python3"
  },
  "language_info": {
   "codemirror_mode": {
    "name": "ipython",
    "version": 3
   },
   "file_extension": ".py",
   "mimetype": "text/x-python",
   "name": "python",
   "nbconvert_exporter": "python",
   "pygments_lexer": "ipython3",
   "version": "3.7.4"
  }
 },
 "nbformat": 4,
 "nbformat_minor": 2
}
